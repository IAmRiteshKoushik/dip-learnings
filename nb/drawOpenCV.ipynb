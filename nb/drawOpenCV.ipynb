{
 "cells": [
  {
   "cell_type": "code",
   "execution_count": null,
   "id": "56aba37c-02bd-4976-8ec8-a0192a63504c",
   "metadata": {},
   "outputs": [],
   "source": [
    "import cv2 as cv\n",
    "import numpy as np\n",
    "import matplotlib.pyplot as plt"
   ]
  },
  {
   "cell_type": "code",
   "execution_count": null,
   "id": "05d62edc-254f-472b-b428-be643f94b4c2",
   "metadata": {},
   "outputs": [],
   "source": [
    "# Creating an image using a numpy array of zeroes\n",
    "blank = np.zeros((500, 500, 3), dtype=\"uint8\")"
   ]
  },
  {
   "cell_type": "markdown",
   "id": "b248f093-f576-4ea5-9ae8-4b3fb9984065",
   "metadata": {},
   "source": [
    "1. Draw a rectangle"
   ]
  },
  {
   "cell_type": "code",
   "execution_count": null,
   "id": "0d3dd9a3-4bed-4b81-b499-da566f577f8e",
   "metadata": {},
   "outputs": [],
   "source": [
    "# You can choose to generate the end coordinates fo the diagonal for mapping the \n",
    "# entire rectangle through the dimensions of the image as well\n",
    "cv.rectangle(blank, (0, 0), (250, 250), (0, 255, 0), thickness=cv.FILLED)\n",
    "# cv.FILLED is used to created a solid shape (instead of outlined)\n",
    "# -1 achieves the same results\n",
    "\n",
    "# Displaying the image\n",
    "plt.imshow(blank) # returns a black image\n",
    "plt.axis(\"Off\")\n",
    "plt.show()"
   ]
  },
  {
   "cell_type": "markdown",
   "id": "74f55082-5338-4dc0-90a5-501be393b2b6",
   "metadata": {},
   "source": [
    "2. Drawing a circle"
   ]
  },
  {
   "cell_type": "code",
   "execution_count": null,
   "id": "a62072a9-1309-4fa3-baed-6525bdab56b2",
   "metadata": {},
   "outputs": [],
   "source": [
    "# Params - image-matrix, coordinates for center, radius, color, thickness\n",
    "cv.circle(blank, (blank.shape[1] // 2, blank.shape[0] // 2), 40, (0, 0, 255), \n",
    "          thickness=-1)\n",
    "\n",
    "# Displaying the image\n",
    "plt.imshow(blank) # returns a black image\n",
    "plt.axis(\"Off\")\n",
    "plt.show()"
   ]
  },
  {
   "cell_type": "markdown",
   "id": "5453d95c-222f-452f-9201-11867e00edf4",
   "metadata": {},
   "source": [
    "3. Draw a line"
   ]
  },
  {
   "cell_type": "code",
   "execution_count": 18,
   "id": "00c773e4-a619-498b-aac7-4cbcf8e1ebfd",
   "metadata": {},
   "outputs": [
    {
     "data": {
      "image/png": "[encoded data removed]",
      "text/plain": [
       "<Figure size 640x480 with 1 Axes>"
      ]
     },
     "metadata": {},
     "output_type": "display_data"
    }
   ],
   "source": [
    "# Params - image-matrix, coord-start, coord-end, color, thickness\n",
    "cv.line(blank, (0, 0), (blank.shape[1] // 2, blank.shape[0] // 2),\n",
    "        (255, 255, 255), thickness=3)\n",
    "\n",
    "# Displaying the image\n",
    "plt.imshow(blank) # returns a black image\n",
    "plt.axis(\"Off\")\n",
    "plt.show()"
   ]
  },
  {
   "cell_type": "markdown",
   "id": "565fb870-e726-487f-a336-00947837644d",
   "metadata": {},
   "source": [
    "4. Write text on images"
   ]
  },
  {
   "cell_type": "code",
   "execution_count": 19,
   "id": "b3a03c52-16ba-458e-bded-8f289bedd5bb",
   "metadata": {},
   "outputs": [
    {
     "data": {
      "image/png": "[encoded data removed]",
      "text/plain": [
       "<Figure size 640x480 with 1 Axes>"
      ]
     },
     "metadata": {},
     "output_type": "display_data"
    }
   ],
   "source": [
    "# Params - image-matrix, text-to-display, starting-coord, font-face,\n",
    "            # font-scale, color, thickness \n",
    "cv.putText(blank, \"Hello\", (255, 255), cv.FONT_HERSHEY_TRIPLEX, 1.0, (0, 255, 0), 2)\n",
    "\n",
    "# Displaying the image\n",
    "plt.imshow(blank) # returns a black image\n",
    "plt.axis(\"Off\")\n",
    "plt.show()"
   ]
  },
  {
   "cell_type": "code",
   "execution_count": null,
   "id": "0cfcf5fb-c584-4b67-a71f-7173eb5ef055",
   "metadata": {},
   "outputs": [],
   "source": [
    "# Displaying the image\n",
    "plt.imshow(blank) # returns a black image\n",
    "plt.axis(\"Off\")\n",
    "plt.show()"
   ]
  },
  {
   "cell_type": "code",
   "execution_count": null,
   "id": "7127914e-a93b-42f9-a47d-5eaf9fb93b7f",
   "metadata": {},
   "outputs": [],
   "source": []
  }
 ],
 "metadata": {
  "kernelspec": {
   "display_name": "venv",
   "language": "python",
   "name": "venv"
  },
  "language_info": {
   "codemirror_mode": {
    "name": "ipython",
    "version": 3
   },
   "file_extension": ".py",
   "mimetype": "text/x-python",
   "name": "python",
   "nbconvert_exporter": "python",
   "pygments_lexer": "ipython3",
   "version": "3.12.4"
  }
 },
 "nbformat": 4,
 "nbformat_minor": 5
}
